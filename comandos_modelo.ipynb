{
 "cells": [
  {
   "cell_type": "markdown",
   "id": "e0e4e877",
   "metadata": {},
   "source": [
    "# Levantar AirFlow\n",
    "airflow standalone\n",
    "\n",
    "# Levantar FastApi\n",
    "uvicorn main:app --reload\n",
    "\n",
    "# Desactivar entorno virtual\n",
    "deactivate\n",
    "\n",
    "# Activar entorno virtual\n",
    "source /home/nelson/pipeline-flow-api/airflow-env/bin/activate\n",
    "\n"
   ]
  },
  {
   "cell_type": "markdown",
   "id": "72548c25",
   "metadata": {},
   "source": [
    "# Instrucciones para actualizar repositorio de Github"
   ]
  },
  {
   "cell_type": "markdown",
   "id": "0635eaca",
   "metadata": {},
   "source": [
    "git add .\n",
    "\n",
    "git commit -m 'save all changes'\n",
    "\n",
    "git push\n",
    "\n",
    "git pull origin main --rebase\n",
    "\n",
    "git push origin main\n",
    "\n",
    "git push origin main --force\n"
   ]
  }
 ],
 "metadata": {
  "language_info": {
   "name": "python"
  }
 },
 "nbformat": 4,
 "nbformat_minor": 5
}
