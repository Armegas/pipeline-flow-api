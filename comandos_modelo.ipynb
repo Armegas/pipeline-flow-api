{
 "cells": [
  {
   "cell_type": "markdown",
   "id": "e0e4e877",
   "metadata": {},
   "source": [
    "# Levantar AirFlow\n",
    "airflow standalone\n",
    "\n",
    "# Levantar FastApi\n",
    "uvicorn main:app --reload\n",
    "\n",
    "# Desactivar entorno virtual\n",
    "deactivate\n",
    "\n",
    "# Activar entorno virtual\n",
    "source /home/nelson/pipeline-flow-api/airflow-env/bin/activate\n",
    "\n"
   ]
  }
 ],
 "metadata": {
  "language_info": {
   "name": "python"
  }
 },
 "nbformat": 4,
 "nbformat_minor": 5
}
